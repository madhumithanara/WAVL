{
 "cells": [
  {
   "cell_type": "code",
   "execution_count": 1,
   "metadata": {},
   "outputs": [],
   "source": [
    "import time\n",
    "import random\n",
    "from wavl import WAVL\n",
    "from bst import BST\n",
    "from avl import AVL_Tree\n",
    "from rb_tree import RedBlackTree"
   ]
  },
  {
   "cell_type": "code",
   "execution_count": 2,
   "metadata": {},
   "outputs": [],
   "source": [
    "wavl_tree=WAVL()\n",
    "avl_tree=AVL_Tree()\n",
    "bst=BST()\n",
    "rbt=RedBlackTree()\n",
    "root=None"
   ]
  },
  {
   "cell_type": "code",
   "execution_count": 3,
   "metadata": {},
   "outputs": [],
   "source": [
    "def insert(n):\n",
    "    list=random.sample(range(1,n+1),n)\n",
    "    start=time.time()\n",
    "    for i in list:\n",
    "        avl_tree.insert(root,i)\n",
    "    print(\"Total Time for AVL is :\",time.time()-start)\n",
    "\n",
    "    start=time.time()\n",
    "    for i in list:\n",
    "        wavl_tree.insert(i)\n",
    "    print(\"Total Time for WAVL is :\",time.time()-start)\n",
    "    \n",
    "\n",
    "    start=time.time()\n",
    "    for i in list:\n",
    "        rbt.add(i)\n",
    "    print(\"Total Time for RBT is :\",time.time()-start)"
   ]
  },
  {
   "cell_type": "code",
   "execution_count": 4,
   "metadata": {},
   "outputs": [],
   "source": [
    "def remove(n):\n",
    "    start=time.time()\n",
    "    for i in range(n,1,-1):\n",
    "        avl_tree.delete(root,i)\n",
    "    print(\"Total Time for AVL is :\",time.time()-start)\n",
    "    \n",
    "    start=time.time()\n",
    "    for i in range(n,1,-1):\n",
    "        wavl_tree.remove(i)\n",
    "    print(\"Total Time for WAVL is :\",time.time()-start)\n",
    "    \n",
    "\n",
    "    start=time.time()\n",
    "    for i in range(n,1,-1):\n",
    "        rbt.remove(i)\n",
    "    print(\"Total Time for RBT is :\",time.time()-start)"
   ]
  },
  {
   "cell_type": "code",
   "execution_count": 5,
   "metadata": {},
   "outputs": [
    {
     "name": "stdout",
     "output_type": "stream",
     "text": [
      "Total Time for AVL is : 0.038941383361816406\n",
      "Total Time for WAVL is : 0.7844498157501221\n",
      "Total Time for RBT is : 0.8116049766540527\n"
     ]
    }
   ],
   "source": [
    "rand_int=random.randint(10000,100000)\n",
    "insert(rand_int)"
   ]
  },
  {
   "cell_type": "code",
   "execution_count": 6,
   "metadata": {},
   "outputs": [
    {
     "name": "stdout",
     "output_type": "stream",
     "text": [
      "Total Time for AVL is : 0.004132270812988281\n",
      "Total Time for WAVL is : 0.10790133476257324\n",
      "Total Time for RBT is : 0.35814547538757324\n"
     ]
    }
   ],
   "source": [
    "rand_int=random.randint(10000,100000)\n",
    "remove(rand_int)"
   ]
  },
  {
   "cell_type": "code",
   "execution_count": 7,
   "metadata": {},
   "outputs": [],
   "source": [
    "def search(n):\n",
    "    start=time.time()\n",
    "    for i in range(n,1,-1):\n",
    "        avl_tree.search(root,i)\n",
    "    print(\"Total Time for AVL is :\",time.time()-start)\n",
    "    \n",
    "    start=time.time()\n",
    "    for i in range(n,1,-1):\n",
    "        wavl_tree.search(i)\n",
    "    print(\"Total Time for WAVL is :\",time.time()-start)\n",
    "    \n",
    "\n",
    "    start=time.time()\n",
    "    for i in range(n,1,-1):\n",
    "        rbt.search(i)\n",
    "    print(\"Total Time for RBT is :\",time.time()-start)"
   ]
  },
  {
   "cell_type": "code",
   "execution_count": 8,
   "metadata": {},
   "outputs": [
    {
     "name": "stdout",
     "output_type": "stream",
     "text": [
      "Total Time for AVL is : 0.018057823181152344\n",
      "Total Time for WAVL is : 0.2515833377838135\n",
      "Total Time for RBT is : 0.8520445823669434\n"
     ]
    }
   ],
   "source": [
    "rand_int=random.randint(10000,100000)\n",
    "search(rand_int)"
   ]
  },
  {
   "cell_type": "code",
   "execution_count": null,
   "metadata": {},
   "outputs": [],
   "source": []
  }
 ],
 "metadata": {
  "kernelspec": {
   "display_name": "Python 3",
   "language": "python",
   "name": "python3"
  },
  "language_info": {
   "codemirror_mode": {
    "name": "ipython",
    "version": 3
   },
   "file_extension": ".py",
   "mimetype": "text/x-python",
   "name": "python",
   "nbconvert_exporter": "python",
   "pygments_lexer": "ipython3",
   "version": "3.6.6"
  }
 },
 "nbformat": 4,
 "nbformat_minor": 2
}
